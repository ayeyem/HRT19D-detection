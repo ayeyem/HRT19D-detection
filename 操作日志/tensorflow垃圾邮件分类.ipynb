{
 "cells": [
  {
   "cell_type": "code",
   "execution_count": 53,
   "metadata": {
    "collapsed": true
   },
   "outputs": [],
   "source": [
    "import tensorflow as tf\n",
    "from tensorflow import keras\n",
    "import numpy as np"
   ]
  },
  {
   "cell_type": "code",
   "execution_count": 54,
   "metadata": {
    "collapsed": true
   },
   "outputs": [],
   "source": [
    "def load_data(file_path):\n",
    "    data = []\n",
    "    label = []\n",
    "    with open(file_path, \"r\") as data_file:\n",
    "        raw_data = data_file.readlines()\n",
    "        for data_line in raw_data:\n",
    "            sample = data_line[:-1]#去掉数据中的/n\n",
    "            sample = sample.split(\",\")#以逗号分隔字符串\n",
    "            label.append(sample[-1])#label记录最后bool值\n",
    "            sample = np.array([float(feature) for feature in sample[:-1]])\n",
    "            sample[-3] /= 10\n",
    "            sample[-2] /= 100\n",
    "            sample[-1] /= 1000\n",
    "            #对最后三个较大的数处理\n",
    "            data.append(sample)\n",
    "            #将sample值导入到data中\n",
    "    return np.array(data), np.array(label)\n",
    "train_data,train_label = load_data(\"./train.data\")\n",
    "test_data,test_label = load_data(\"./test.data\")\n",
    "#调用函数，将训练和测试数据及分类放入四个数组中"
   ]
  },
  {
   "cell_type": "code",
   "execution_count": 55,
   "metadata": {
    "collapsed": true
   },
   "outputs": [],
   "source": [
    "from tensorflow.keras import layers\n",
    "model = tf.keras.Sequential([\n",
    "layers.Dense(57, activation = 'softmax'),\n",
    "layers.Dense(1, activation = 'sigmoid')])\n",
    "#采用两层贯序模型\n",
    "#第一层有57个节点（因为之前的数据处理，处理57D向量，因此是57路softmax层）\n",
    "#第二层有1个节点，将文本分为两类"
   ]
  },
  {
   "cell_type": "code",
   "execution_count": 56,
   "metadata": {
    "collapsed": true
   },
   "outputs": [],
   "source": [
    "model.compile(optimizer = tf.train.AdamOptimizer(),\n",
    "              loss = 'binary_crossentropy',\n",
    "              metrics = ['accuracy'])\n",
    "#对模型进行编译，设置优化器、损失函数、优化目标"
   ]
  },
  {
   "cell_type": "code",
   "execution_count": 57,
   "metadata": {},
   "outputs": [
    {
     "name": "stdout",
     "output_type": "stream",
     "text": [
      "Train on 3224 samples, validate on 1377 samples\n",
      "Epoch 1/40\n",
      "3224/3224 [==============================] - 1s 237us/step - loss: 0.6851 - acc: 0.6126 - val_loss: 0.6738 - val_acc: 0.6885\n",
      "Epoch 2/40\n",
      "3224/3224 [==============================] - 0s 51us/step - loss: 0.6668 - acc: 0.6904 - val_loss: 0.6549 - val_acc: 0.7328\n",
      "Epoch 3/40\n",
      "3224/3224 [==============================] - 0s 45us/step - loss: 0.6486 - acc: 0.7469 - val_loss: 0.6353 - val_acc: 0.7967\n",
      "Epoch 4/40\n",
      "3224/3224 [==============================] - 0s 43us/step - loss: 0.6295 - acc: 0.8046 - val_loss: 0.6150 - val_acc: 0.8417\n",
      "Epoch 5/40\n",
      "3224/3224 [==============================] - 0s 46us/step - loss: 0.6097 - acc: 0.8344 - val_loss: 0.5938 - val_acc: 0.8642\n",
      "Epoch 6/40\n",
      "3224/3224 [==============================] - 0s 37us/step - loss: 0.5892 - acc: 0.8517 - val_loss: 0.5723 - val_acc: 0.8794\n",
      "Epoch 7/40\n",
      "3224/3224 [==============================] - 0s 38us/step - loss: 0.5687 - acc: 0.8703 - val_loss: 0.5508 - val_acc: 0.8867\n",
      "Epoch 8/40\n",
      "3224/3224 [==============================] - 0s 45us/step - loss: 0.5482 - acc: 0.8803 - val_loss: 0.5296 - val_acc: 0.8932\n",
      "Epoch 9/40\n",
      "3224/3224 [==============================] - 0s 43us/step - loss: 0.5277 - acc: 0.8831 - val_loss: 0.5084 - val_acc: 0.8991\n",
      "Epoch 10/40\n",
      "3224/3224 [==============================] - 0s 42us/step - loss: 0.5076 - acc: 0.8917 - val_loss: 0.4877 - val_acc: 0.9012\n",
      "Epoch 11/40\n",
      "3224/3224 [==============================] - 0s 40us/step - loss: 0.4881 - acc: 0.9020 - val_loss: 0.4681 - val_acc: 0.9056\n",
      "Epoch 12/40\n",
      "3224/3224 [==============================] - 0s 36us/step - loss: 0.4699 - acc: 0.9038 - val_loss: 0.4501 - val_acc: 0.9085\n",
      "Epoch 13/40\n",
      "3224/3224 [==============================] - 0s 48us/step - loss: 0.4531 - acc: 0.9069 - val_loss: 0.4337 - val_acc: 0.9121\n",
      "Epoch 14/40\n",
      "3224/3224 [==============================] - 0s 43us/step - loss: 0.4374 - acc: 0.9113 - val_loss: 0.4183 - val_acc: 0.9143\n",
      "Epoch 15/40\n",
      "3224/3224 [==============================] - 0s 43us/step - loss: 0.4229 - acc: 0.9119 - val_loss: 0.4038 - val_acc: 0.9179\n",
      "Epoch 16/40\n",
      "3224/3224 [==============================] - 0s 37us/step - loss: 0.4094 - acc: 0.9159 - val_loss: 0.3904 - val_acc: 0.9223\n",
      "Epoch 17/40\n",
      "3224/3224 [==============================] - 0s 43us/step - loss: 0.3969 - acc: 0.9169 - val_loss: 0.3783 - val_acc: 0.9237\n",
      "Epoch 18/40\n",
      "3224/3224 [==============================] - 0s 42us/step - loss: 0.3856 - acc: 0.9190 - val_loss: 0.3669 - val_acc: 0.9267\n",
      "Epoch 19/40\n",
      "3224/3224 [==============================] - 0s 37us/step - loss: 0.3751 - acc: 0.9228 - val_loss: 0.3565 - val_acc: 0.9288\n",
      "Epoch 20/40\n",
      "3224/3224 [==============================] - 0s 44us/step - loss: 0.3655 - acc: 0.9240 - val_loss: 0.3469 - val_acc: 0.9288\n",
      "Epoch 21/40\n",
      "3224/3224 [==============================] - 0s 42us/step - loss: 0.3566 - acc: 0.9246 - val_loss: 0.3381 - val_acc: 0.9303\n",
      "Epoch 22/40\n",
      "3224/3224 [==============================] - 0s 41us/step - loss: 0.3486 - acc: 0.9256 - val_loss: 0.3300 - val_acc: 0.9325\n",
      "Epoch 23/40\n",
      "3224/3224 [==============================] - 0s 45us/step - loss: 0.3409 - acc: 0.9262 - val_loss: 0.3223 - val_acc: 0.9325\n",
      "Epoch 24/40\n",
      "3224/3224 [==============================] - 0s 41us/step - loss: 0.3340 - acc: 0.9259 - val_loss: 0.3152 - val_acc: 0.9339\n",
      "Epoch 25/40\n",
      "3224/3224 [==============================] - 0s 49us/step - loss: 0.3274 - acc: 0.9262 - val_loss: 0.3086 - val_acc: 0.9354\n",
      "Epoch 26/40\n",
      "3224/3224 [==============================] - 0s 62us/step - loss: 0.3213 - acc: 0.9262 - val_loss: 0.3024 - val_acc: 0.9361\n",
      "Epoch 27/40\n",
      "3224/3224 [==============================] - 0s 44us/step - loss: 0.3156 - acc: 0.9262 - val_loss: 0.2965 - val_acc: 0.9354\n",
      "Epoch 28/40\n",
      "3224/3224 [==============================] - 0s 42us/step - loss: 0.3102 - acc: 0.9271 - val_loss: 0.2910 - val_acc: 0.9346\n",
      "Epoch 29/40\n",
      "3224/3224 [==============================] - 0s 37us/step - loss: 0.3051 - acc: 0.9274 - val_loss: 0.2860 - val_acc: 0.9346\n",
      "Epoch 30/40\n",
      "3224/3224 [==============================] - 0s 37us/step - loss: 0.3004 - acc: 0.9271 - val_loss: 0.2813 - val_acc: 0.9354\n",
      "Epoch 31/40\n",
      "3224/3224 [==============================] - 0s 35us/step - loss: 0.2959 - acc: 0.9265 - val_loss: 0.2768 - val_acc: 0.9354\n",
      "Epoch 32/40\n",
      "3224/3224 [==============================] - 0s 40us/step - loss: 0.2915 - acc: 0.9274 - val_loss: 0.2726 - val_acc: 0.9361\n",
      "Epoch 33/40\n",
      "3224/3224 [==============================] - 0s 36us/step - loss: 0.2876 - acc: 0.9268 - val_loss: 0.2687 - val_acc: 0.9354\n",
      "Epoch 34/40\n",
      "3224/3224 [==============================] - 0s 35us/step - loss: 0.2837 - acc: 0.9296 - val_loss: 0.2651 - val_acc: 0.9354\n",
      "Epoch 35/40\n",
      "3224/3224 [==============================] - 0s 35us/step - loss: 0.2800 - acc: 0.9296 - val_loss: 0.2615 - val_acc: 0.9361\n",
      "Epoch 36/40\n",
      "3224/3224 [==============================] - 0s 33us/step - loss: 0.2764 - acc: 0.9296 - val_loss: 0.2583 - val_acc: 0.9361\n",
      "Epoch 37/40\n",
      "3224/3224 [==============================] - 0s 37us/step - loss: 0.2732 - acc: 0.9287 - val_loss: 0.2552 - val_acc: 0.9361\n",
      "Epoch 38/40\n",
      "3224/3224 [==============================] - 0s 38us/step - loss: 0.2699 - acc: 0.9293 - val_loss: 0.2522 - val_acc: 0.9375\n",
      "Epoch 39/40\n",
      "3224/3224 [==============================] - 0s 37us/step - loss: 0.2669 - acc: 0.9299 - val_loss: 0.2495 - val_acc: 0.9368\n",
      "Epoch 40/40\n",
      "3224/3224 [==============================] - 0s 52us/step - loss: 0.2639 - acc: 0.9305 - val_loss: 0.2469 - val_acc: 0.9383\n"
     ]
    }
   ],
   "source": [
    "history = model.fit(train_data, \n",
    "                    train_label,\n",
    "                    epochs = 40, \n",
    "                    batch_size = 100,\n",
    "                    validation_data=(test_data, test_label),\n",
    "                    verbose=1)\n",
    "#日志显示，1表示以进度条形式显示\n",
    "#让模型适应训练集和测试集，进行40次迭代，随机梯度下降时一组数据量大小为20，每次更新权重"
   ]
  },
  {
   "cell_type": "code",
   "execution_count": 58,
   "metadata": {
    "collapsed": true
   },
   "outputs": [],
   "source": [
    "history_dict = history.history\n",
    "history_dict.keys()\n",
    "dict_keys = ['loss', 'val_loss', 'val_acc', 'acc']"
   ]
  },
  {
   "cell_type": "code",
   "execution_count": 59,
   "metadata": {},
   "outputs": [
    {
     "data": {
      "image/png": "[encoded data removed]",
      "text/plain": [
       "<matplotlib.figure.Figure at 0x19f360b25c0>"
      ]
     },
     "metadata": {},
     "output_type": "display_data"
    }
   ],
   "source": [
    "import matplotlib.pyplot as plt\n",
    "%matplotlib inline\n",
    "acc = history.history['acc']\n",
    "val_acc = history.history['val_acc']\n",
    "loss = history.history['loss']\n",
    "val_loss = history.history['val_loss']\n",
    "\n",
    "epochs = range(1, len(acc) + 1)\n",
    "#循环次数\n",
    "# \"bo\" is for \"blue dot\"\n",
    "plt.plot(epochs, loss, 'bo', label='Training loss')\n",
    "# b is for \"solid blue line\"\n",
    "plt.plot(epochs, val_loss, 'b', label='Validation loss')\n",
    "plt.title('Training and validation loss')\n",
    "plt.xlabel('Epochs')\n",
    "plt.ylabel('Loss')\n",
    "plt.legend()\n",
    "\n",
    "plt.show()"
   ]
  },
  {
   "cell_type": "code",
   "execution_count": 60,
   "metadata": {},
   "outputs": [
    {
     "data": {
      "image/png": "[encoded data removed]",
      "text/plain": [
       "<matplotlib.figure.Figure at 0x19f360a3898>"
      ]
     },
     "metadata": {},
     "output_type": "display_data"
    }
   ],
   "source": [
    "acc_values = history_dict['acc']\n",
    "val_acc_values = history_dict['val_acc']\n",
    "\n",
    "plt.plot(epochs, acc, 'bo', label='Training acc')\n",
    "plt.plot(epochs, val_acc, 'b', label='Validation acc')\n",
    "plt.title('Training and validation accuracy')\n",
    "plt.xlabel('Epochs')\n",
    "plt.ylabel('Accuracy')\n",
    "plt.legend()\n",
    "\n",
    "plt.show()"
   ]
  },
  {
   "cell_type": "code",
   "execution_count": 61,
   "metadata": {
    "collapsed": true
   },
   "outputs": [],
   "source": [
    "def load_data_forcase(file_path):\n",
    "    data = []\n",
    "    with open(file_path, \"r\") as data_file:\n",
    "        raw_data = data_file.readlines()\n",
    "        for data_line in raw_data:\n",
    "            sample = data_line[:-1]#去掉数据中的/n\n",
    "            sample = sample.split(\",\")#以逗号分隔字符串\n",
    "            sample = np.array([float(feature) for feature in sample])\n",
    "            sample[-3] /= 10\n",
    "            sample[-2] /= 100\n",
    "            sample[-1] /= 1000\n",
    "            #对最后三个较大的数处理\n",
    "            data.append(sample)\n",
    "            #将sample值导入到data中\n",
    "    return np.array(data)\n",
    "forcase_data=load_data_forcase(\"./get_the_flag.data\")"
   ]
  },
  {
   "cell_type": "code",
   "execution_count": 62,
   "metadata": {},
   "outputs": [
    {
     "name": "stdout",
     "output_type": "stream",
     "text": [
      "560/560 [==============================] - 0s 262us/step\n"
     ]
    }
   ],
   "source": [
    "forcase_end = model.predict_classes(forcase_data , batch_size=20, verbose=1)\n",
    "#使用训练出来的模型预测get_the_flag.data中的数据"
   ]
  },
  {
   "cell_type": "code",
   "execution_count": 63,
   "metadata": {},
   "outputs": [
    {
     "data": {
      "text/plain": [
       "560"
      ]
     },
     "execution_count": 63,
     "metadata": {},
     "output_type": "execute_result"
    }
   ],
   "source": [
    "len(forcase_end)"
   ]
  },
  {
   "cell_type": "code",
   "execution_count": 64,
   "metadata": {},
   "outputs": [
    {
     "data": {
      "image/png": "[encoded data removed]",
      "text/plain": [
       "<matplotlib.figure.Figure at 0x19f33074c88>"
      ]
     },
     "metadata": {},
     "output_type": "display_data"
    }
   ],
   "source": [
    "import matplotlib.pyplot as plt\n",
    "x = np.array(range(560))\n",
    "y = forcase_end\n",
    "plt.scatter(x, y)\n",
    "plt.show()\n",
    "#将数据用散点图表示"
   ]
  },
  {
   "cell_type": "code",
   "execution_count": 75,
   "metadata": {},
   "outputs": [
    {
     "name": "stdout",
     "output_type": "stream",
     "text": [
      "[1, 0, 0, 0, 1, 0, 0, 1, 1, 1, 0, 1, 0, 1, 1, 1, 0, 1, 0, 0, 1, 1, 1, 0, 1, 1, 0, 1, 1, 1, 0, 0, 1, 0, 0, 1, 0, 1, 1, 1, 1, 1, 1, 0, 0, 0, 0, 0, 1, 1, 0, 0, 1, 0, 0]\n"
     ]
    }
   ],
   "source": [
    "flag = []\n",
    "i = 0\n",
    "t = 0\n",
    "while i<560 :\n",
    "    if forcase_end[i] == 1:\n",
    "        t = t + 1\n",
    "    if i % 10 == 0:\n",
    "        if t>5 :\n",
    "            flag.append(1)\n",
    "        else:\n",
    "            flag.append(0)\n",
    "        t = 0\n",
    "    i = i+1\n",
    "print(flag[1:])"
   ]
  },
  {
   "cell_type": "code",
   "execution_count": 1,
   "metadata": {},
   "outputs": [
    {
     "name": "stdout",
     "output_type": "stream",
     "text": [
      "The Zen of Python, by Tim Peters\n",
      "\n",
      "Beautiful is better than ugly.\n",
      "Explicit is better than implicit.\n",
      "Simple is better than complex.\n",
      "Complex is better than complicated.\n",
      "Flat is better than nested.\n",
      "Sparse is better than dense.\n",
      "Readability counts.\n",
      "Special cases aren't special enough to break the rules.\n",
      "Although practicality beats purity.\n",
      "Errors should never pass silently.\n",
      "Unless explicitly silenced.\n",
      "In the face of ambiguity, refuse the temptation to guess.\n",
      "There should be one-- and preferably only one --obvious way to do it.\n",
      "Although that way may not be obvious at first unless you're Dutch.\n",
      "Now is better than never.\n",
      "Although never is often better than *right* now.\n",
      "If the implementation is hard to explain, it's a bad idea.\n",
      "If the implementation is easy to explain, it may be a good idea.\n",
      "Namespaces are one honking great idea -- let's do more of those!\n"
     ]
    }
   ],
   "source": [
    "import this"
   ]
  },
  {
   "cell_type": "code",
   "execution_count": null,
   "metadata": {
    "collapsed": true
   },
   "outputs": [],
   "source": []
  }
 ],
 "metadata": {
  "kernelspec": {
   "display_name": "Python 3",
   "language": "python",
   "name": "python3"
  },
  "language_info": {
   "codemirror_mode": {
    "name": "ipython",
    "version": 3
   },
   "file_extension": ".py",
   "mimetype": "text/x-python",
   "name": "python",
   "nbconvert_exporter": "python",
   "pygments_lexer": "ipython3",
   "version": "3.6.3"
  }
 },
 "nbformat": 4,
 "nbformat_minor": 2
}
