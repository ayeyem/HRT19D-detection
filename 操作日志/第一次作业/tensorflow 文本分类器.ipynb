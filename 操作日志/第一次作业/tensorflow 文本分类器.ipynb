{
 "cells": [
  {
   "cell_type": "code",
   "execution_count": null,
   "metadata": {},
   "outputs": [],
   "source": [
    "# 垃圾邮件文本分类\n",
    "----\n",
    "使用tensorflow 重新进行文本分类，最终在测试集上的损失率降低至0.2以下 准确率达到0.95以上。"
   ]
  },
  {
   "cell_type": "code",
   "execution_count": 62,
   "metadata": {},
   "outputs": [],
   "source": [
    "import tensorflow as tf\n",
    "from tensorflow import keras\n",
    "import numpy as np\n",
    "import matplotlib.pyplot as plt"
   ]
  },
  {
   "cell_type": "markdown",
   "metadata": {},
   "source": [
    "代码开始时先引入需要的包，Python 为解释行语言，所以可以在任何地方引入想要的包。\n",
    "\n",
    "import tensorflow as tf \n",
    "\n",
    "引入 tensorflow 这个包，并将这个包的名字重命名为 tf 这样就可以使用 tf.xxx 来调用 tf 包里的内容。\n",
    "\n",
    "\n",
    "from tensorflow import keras\n",
    "\n",
    "从tensorflow 中引入 keras 模块。 keras 中主要实现了高阶的机器学习网络模型，可以使网络的搭建更简单。"
   ]
  },
  {
   "cell_type": "code",
   "execution_count": 63,
   "metadata": {},
   "outputs": [],
   "source": [
    "def load_data(file_path):\n",
    "    data=[]\n",
    "    label=[]\n",
    "    with open(file_path,\"r\") as data_file:\n",
    "        raw_data=data_file.readlines()\n",
    "        for raw_line in raw_data:\n",
    "            sample=raw_line[:-1]\n",
    "            sample=sample.split(\",\")\n",
    "            label.append(sample[-1])\n",
    "            sample=np.array([float(feature) for feature in sample[:-1]])\n",
    "            sample[-3]/=10\n",
    "            sample[-2]/=100\n",
    "            sample[-1]/=1000\n",
    "            data.append(sample)\n",
    "    return np.array(data),np.array(label)\n",
    "train_data,train_label=load_data(\"./train.data\")\n",
    "test_data,test_label=load_data(\"./test.data\")"
   ]
  },
  {
   "cell_type": "markdown",
   "metadata": {},
   "source": [
    "定义了一个从文件中读取数据的函数。"
   ]
  },
  {
   "cell_type": "code",
   "execution_count": 64,
   "metadata": {},
   "outputs": [
    {
     "data": {
      "text/plain": [
       "57"
      ]
     },
     "execution_count": 64,
     "metadata": {},
     "output_type": "execute_result"
    }
   ],
   "source": [
    "len(test_data[0])"
   ]
  },
  {
   "cell_type": "code",
   "execution_count": 65,
   "metadata": {},
   "outputs": [
    {
     "data": {
      "text/plain": [
       "array([0.    , 0.64  , 0.64  , 0.    , 0.32  , 0.    , 0.    , 0.    ,\n",
       "       0.    , 0.    , 0.    , 0.64  , 0.    , 0.    , 0.    , 0.32  ,\n",
       "       0.    , 1.29  , 1.93  , 0.    , 0.96  , 0.    , 0.    , 0.    ,\n",
       "       0.    , 0.    , 0.    , 0.    , 0.    , 0.    , 0.    , 0.    ,\n",
       "       0.    , 0.    , 0.    , 0.    , 0.    , 0.    , 0.    , 0.    ,\n",
       "       0.    , 0.    , 0.    , 0.    , 0.    , 0.    , 0.    , 0.    ,\n",
       "       0.    , 0.    , 0.    , 0.778 , 0.    , 0.    , 0.3756, 0.61  ,\n",
       "       0.278 ])"
      ]
     },
     "execution_count": 65,
     "metadata": {},
     "output_type": "execute_result"
    }
   ],
   "source": [
    "train_data[0]"
   ]
  },
  {
   "cell_type": "markdown",
   "metadata": {},
   "source": [
    "keras 中的模型完全由 python 语言描述，相比之下，其它框架可能需要配置文件。\n",
    "\n",
    "下面这个模型共两层，其中第一层共57个结点，激活函数为 softmax ，第二层只有1个结点，激活函数为sigmoid。\n",
    "\n",
    "在模型定义好后需编译模型，这是可以选用优化器，损失函数和优化目标。这里使用的是对数损失函数，\n",
    "\n",
    "最终设定超参数，让模型去适应训练集和测试集。其中，所有训练样本完成一次正向传播和反向传播称为一个epoch。 batch_size 为在使用随机梯度下降时一组数据的数据量。"
   ]
  },
  {
   "cell_type": "code",
   "execution_count": 66,
   "metadata": {},
   "outputs": [],
   "source": [
    "from tensorflow.keras import layers\n",
    "model = tf.keras.Sequential([\n",
    "layers.Dense(57, activation='softmax'),\n",
    "layers.Dense(1, activation='sigmoid')])"
   ]
  },
  {
   "cell_type": "code",
   "execution_count": 67,
   "metadata": {},
   "outputs": [],
   "source": [
    "model.compile(optimizer=tf.train.AdamOptimizer(),\n",
    "              loss='binary_crossentropy',\n",
    "              metrics=['accuracy'])"
   ]
  },
  {
   "cell_type": "code",
   "execution_count": 68,
   "metadata": {},
   "outputs": [
    {
     "name": "stdout",
     "output_type": "stream",
     "text": [
      "Train on 3224 samples, validate on 1377 samples\n",
      "Epoch 1/100\n",
      "3224/3224 [==============================] - 1s 165us/step - loss: 0.6865 - acc: 0.6089 - val_loss: 0.6765 - val_acc: 0.6674\n",
      "Epoch 2/100\n",
      "3224/3224 [==============================] - 0s 47us/step - loss: 0.6689 - acc: 0.6690 - val_loss: 0.6579 - val_acc: 0.6899\n",
      "Epoch 3/100\n",
      "3224/3224 [==============================] - 0s 47us/step - loss: 0.6505 - acc: 0.7233 - val_loss: 0.6375 - val_acc: 0.7763\n",
      "Epoch 4/100\n",
      "3224/3224 [==============================] - 0s 43us/step - loss: 0.6302 - acc: 0.7742 - val_loss: 0.6153 - val_acc: 0.8228\n",
      "Epoch 5/100\n",
      "3224/3224 [==============================] - 0s 44us/step - loss: 0.6087 - acc: 0.8316 - val_loss: 0.5923 - val_acc: 0.8642\n",
      "Epoch 6/100\n",
      "3224/3224 [==============================] - 0s 41us/step - loss: 0.5867 - acc: 0.8508 - val_loss: 0.5692 - val_acc: 0.8780\n",
      "Epoch 7/100\n",
      "3224/3224 [==============================] - 0s 52us/step - loss: 0.5648 - acc: 0.8728 - val_loss: 0.5464 - val_acc: 0.8903\n",
      "Epoch 8/100\n",
      "3224/3224 [==============================] - 0s 46us/step - loss: 0.5433 - acc: 0.8846 - val_loss: 0.5245 - val_acc: 0.8962\n",
      "Epoch 9/100\n",
      "3224/3224 [==============================] - 0s 50us/step - loss: 0.5228 - acc: 0.8924 - val_loss: 0.5038 - val_acc: 0.8998\n",
      "Epoch 10/100\n",
      "3224/3224 [==============================] - 0s 42us/step - loss: 0.5034 - acc: 0.8970 - val_loss: 0.4844 - val_acc: 0.9034\n",
      "Epoch 11/100\n",
      "3224/3224 [==============================] - 0s 49us/step - loss: 0.4853 - acc: 0.9035 - val_loss: 0.4663 - val_acc: 0.9092\n",
      "Epoch 12/100\n",
      "3224/3224 [==============================] - 0s 44us/step - loss: 0.4684 - acc: 0.9076 - val_loss: 0.4494 - val_acc: 0.9143\n",
      "Epoch 13/100\n",
      "3224/3224 [==============================] - 0s 48us/step - loss: 0.4526 - acc: 0.9076 - val_loss: 0.4336 - val_acc: 0.9150\n",
      "Epoch 14/100\n",
      "3224/3224 [==============================] - 0s 44us/step - loss: 0.4378 - acc: 0.9104 - val_loss: 0.4185 - val_acc: 0.9165\n",
      "Epoch 15/100\n",
      "3224/3224 [==============================] - 0s 52us/step - loss: 0.4238 - acc: 0.9116 - val_loss: 0.4044 - val_acc: 0.9194\n",
      "Epoch 16/100\n",
      "3224/3224 [==============================] - 0s 44us/step - loss: 0.4107 - acc: 0.9122 - val_loss: 0.3912 - val_acc: 0.9237\n",
      "Epoch 17/100\n",
      "3224/3224 [==============================] - 0s 50us/step - loss: 0.3984 - acc: 0.9132 - val_loss: 0.3788 - val_acc: 0.9259\n",
      "Epoch 18/100\n",
      "3224/3224 [==============================] - 0s 51us/step - loss: 0.3868 - acc: 0.9166 - val_loss: 0.3674 - val_acc: 0.9267\n",
      "Epoch 19/100\n",
      "3224/3224 [==============================] - 0s 45us/step - loss: 0.3762 - acc: 0.9209 - val_loss: 0.3568 - val_acc: 0.9274\n",
      "Epoch 20/100\n",
      "3224/3224 [==============================] - 0s 54us/step - loss: 0.3665 - acc: 0.9234 - val_loss: 0.3469 - val_acc: 0.9296\n",
      "Epoch 21/100\n",
      "3224/3224 [==============================] - 0s 46us/step - loss: 0.3574 - acc: 0.9249 - val_loss: 0.3380 - val_acc: 0.9303\n",
      "Epoch 22/100\n",
      "3224/3224 [==============================] - 0s 45us/step - loss: 0.3491 - acc: 0.9268 - val_loss: 0.3297 - val_acc: 0.9303\n",
      "Epoch 23/100\n",
      "3224/3224 [==============================] - 0s 55us/step - loss: 0.3413 - acc: 0.9271 - val_loss: 0.3221 - val_acc: 0.9325\n",
      "Epoch 24/100\n",
      "3224/3224 [==============================] - 0s 58us/step - loss: 0.3342 - acc: 0.9274 - val_loss: 0.3150 - val_acc: 0.9325\n",
      "Epoch 25/100\n",
      "3224/3224 [==============================] - 0s 54us/step - loss: 0.3274 - acc: 0.9274 - val_loss: 0.3084 - val_acc: 0.9317\n",
      "Epoch 26/100\n",
      "3224/3224 [==============================] - 0s 54us/step - loss: 0.3212 - acc: 0.9277 - val_loss: 0.3022 - val_acc: 0.9332\n",
      "Epoch 27/100\n",
      "3224/3224 [==============================] - 0s 51us/step - loss: 0.3152 - acc: 0.9287 - val_loss: 0.2963 - val_acc: 0.9332\n",
      "Epoch 28/100\n",
      "3224/3224 [==============================] - 0s 58us/step - loss: 0.3096 - acc: 0.9296 - val_loss: 0.2909 - val_acc: 0.9332\n",
      "Epoch 29/100\n",
      "3224/3224 [==============================] - 0s 43us/step - loss: 0.3044 - acc: 0.9296 - val_loss: 0.2858 - val_acc: 0.9332\n",
      "Epoch 30/100\n",
      "3224/3224 [==============================] - 0s 48us/step - loss: 0.2995 - acc: 0.9299 - val_loss: 0.2810 - val_acc: 0.9346\n",
      "Epoch 31/100\n",
      "3224/3224 [==============================] - 0s 47us/step - loss: 0.2948 - acc: 0.9318 - val_loss: 0.2764 - val_acc: 0.9368\n",
      "Epoch 32/100\n",
      "3224/3224 [==============================] - 0s 47us/step - loss: 0.2902 - acc: 0.9321 - val_loss: 0.2722 - val_acc: 0.9339\n",
      "Epoch 33/100\n",
      "3224/3224 [==============================] - 0s 49us/step - loss: 0.2860 - acc: 0.9318 - val_loss: 0.2683 - val_acc: 0.9339\n",
      "Epoch 34/100\n",
      "3224/3224 [==============================] - 0s 46us/step - loss: 0.2820 - acc: 0.9327 - val_loss: 0.2644 - val_acc: 0.9346\n",
      "Epoch 35/100\n",
      "3224/3224 [==============================] - 0s 47us/step - loss: 0.2782 - acc: 0.9327 - val_loss: 0.2609 - val_acc: 0.9346\n",
      "Epoch 36/100\n",
      "3224/3224 [==============================] - 0s 47us/step - loss: 0.2745 - acc: 0.9333 - val_loss: 0.2574 - val_acc: 0.9354\n",
      "Epoch 37/100\n",
      "3224/3224 [==============================] - 0s 42us/step - loss: 0.2709 - acc: 0.9333 - val_loss: 0.2542 - val_acc: 0.9354\n",
      "Epoch 38/100\n",
      "3224/3224 [==============================] - 0s 46us/step - loss: 0.2676 - acc: 0.9324 - val_loss: 0.2512 - val_acc: 0.9346\n",
      "Epoch 39/100\n",
      "3224/3224 [==============================] - 0s 47us/step - loss: 0.2643 - acc: 0.9330 - val_loss: 0.2483 - val_acc: 0.9346\n",
      "Epoch 40/100\n",
      "3224/3224 [==============================] - 0s 52us/step - loss: 0.2612 - acc: 0.9327 - val_loss: 0.2456 - val_acc: 0.9346\n",
      "Epoch 41/100\n",
      "3224/3224 [==============================] - 0s 49us/step - loss: 0.2583 - acc: 0.9324 - val_loss: 0.2428 - val_acc: 0.9354\n",
      "Epoch 42/100\n",
      "3224/3224 [==============================] - 0s 48us/step - loss: 0.2553 - acc: 0.9333 - val_loss: 0.2404 - val_acc: 0.9354\n",
      "Epoch 43/100\n",
      "3224/3224 [==============================] - 0s 48us/step - loss: 0.2525 - acc: 0.9342 - val_loss: 0.2381 - val_acc: 0.9368\n",
      "Epoch 44/100\n",
      "3224/3224 [==============================] - 0s 48us/step - loss: 0.2498 - acc: 0.9349 - val_loss: 0.2358 - val_acc: 0.9375\n",
      "Epoch 45/100\n",
      "3224/3224 [==============================] - 0s 47us/step - loss: 0.2471 - acc: 0.9346 - val_loss: 0.2336 - val_acc: 0.9375\n",
      "Epoch 46/100\n",
      "3224/3224 [==============================] - 0s 48us/step - loss: 0.2443 - acc: 0.9349 - val_loss: 0.2316 - val_acc: 0.9383\n",
      "Epoch 47/100\n",
      "3224/3224 [==============================] - 0s 47us/step - loss: 0.2415 - acc: 0.9361 - val_loss: 0.2296 - val_acc: 0.9383\n",
      "Epoch 48/100\n",
      "3224/3224 [==============================] - 0s 53us/step - loss: 0.2388 - acc: 0.9358 - val_loss: 0.2278 - val_acc: 0.9375\n",
      "Epoch 49/100\n",
      "3224/3224 [==============================] - 0s 48us/step - loss: 0.2358 - acc: 0.9367 - val_loss: 0.2255 - val_acc: 0.9383\n",
      "Epoch 50/100\n",
      "3224/3224 [==============================] - 0s 48us/step - loss: 0.2330 - acc: 0.9383 - val_loss: 0.2240 - val_acc: 0.9397\n",
      "Epoch 51/100\n",
      "3224/3224 [==============================] - 0s 41us/step - loss: 0.2302 - acc: 0.9404 - val_loss: 0.2224 - val_acc: 0.9397\n",
      "Epoch 52/100\n",
      "3224/3224 [==============================] - 0s 50us/step - loss: 0.2278 - acc: 0.9408 - val_loss: 0.2211 - val_acc: 0.9390\n",
      "Epoch 53/100\n",
      "3224/3224 [==============================] - 0s 50us/step - loss: 0.2256 - acc: 0.9408 - val_loss: 0.2195 - val_acc: 0.9390\n",
      "Epoch 54/100\n",
      "3224/3224 [==============================] - 0s 46us/step - loss: 0.2235 - acc: 0.9420 - val_loss: 0.2179 - val_acc: 0.9412\n",
      "Epoch 55/100\n",
      "3224/3224 [==============================] - 0s 45us/step - loss: 0.2215 - acc: 0.9426 - val_loss: 0.2166 - val_acc: 0.9412\n",
      "Epoch 56/100\n",
      "3224/3224 [==============================] - 0s 47us/step - loss: 0.2196 - acc: 0.9429 - val_loss: 0.2153 - val_acc: 0.9405\n",
      "Epoch 57/100\n",
      "3224/3224 [==============================] - 0s 41us/step - loss: 0.2178 - acc: 0.9423 - val_loss: 0.2139 - val_acc: 0.9412\n",
      "Epoch 58/100\n",
      "3224/3224 [==============================] - 0s 45us/step - loss: 0.2160 - acc: 0.9432 - val_loss: 0.2126 - val_acc: 0.9412\n",
      "Epoch 59/100\n",
      "3224/3224 [==============================] - 0s 47us/step - loss: 0.2143 - acc: 0.9423 - val_loss: 0.2114 - val_acc: 0.9412\n",
      "Epoch 60/100\n"
     ]
    },
    {
     "name": "stdout",
     "output_type": "stream",
     "text": [
      "3224/3224 [==============================] - 0s 44us/step - loss: 0.2126 - acc: 0.9426 - val_loss: 0.2100 - val_acc: 0.9405\n",
      "Epoch 61/100\n",
      "3224/3224 [==============================] - 0s 49us/step - loss: 0.2111 - acc: 0.9429 - val_loss: 0.2090 - val_acc: 0.9412\n",
      "Epoch 62/100\n",
      "3224/3224 [==============================] - 0s 46us/step - loss: 0.2096 - acc: 0.9426 - val_loss: 0.2080 - val_acc: 0.9412\n",
      "Epoch 63/100\n",
      "3224/3224 [==============================] - 0s 45us/step - loss: 0.2081 - acc: 0.9435 - val_loss: 0.2068 - val_acc: 0.9397\n",
      "Epoch 64/100\n",
      "3224/3224 [==============================] - 0s 45us/step - loss: 0.2067 - acc: 0.9432 - val_loss: 0.2058 - val_acc: 0.9405\n",
      "Epoch 65/100\n",
      "3224/3224 [==============================] - 0s 46us/step - loss: 0.2053 - acc: 0.9429 - val_loss: 0.2045 - val_acc: 0.9412\n",
      "Epoch 66/100\n",
      "3224/3224 [==============================] - 0s 47us/step - loss: 0.2039 - acc: 0.9442 - val_loss: 0.2036 - val_acc: 0.9405\n",
      "Epoch 67/100\n",
      "3224/3224 [==============================] - 0s 45us/step - loss: 0.2026 - acc: 0.9445 - val_loss: 0.2027 - val_acc: 0.9397\n",
      "Epoch 68/100\n",
      "3224/3224 [==============================] - 0s 49us/step - loss: 0.2013 - acc: 0.9448 - val_loss: 0.2018 - val_acc: 0.9405\n",
      "Epoch 69/100\n",
      "3224/3224 [==============================] - 0s 43us/step - loss: 0.2001 - acc: 0.9448 - val_loss: 0.2009 - val_acc: 0.9397\n",
      "Epoch 70/100\n",
      "3224/3224 [==============================] - 0s 49us/step - loss: 0.1989 - acc: 0.9445 - val_loss: 0.2001 - val_acc: 0.9397\n",
      "Epoch 71/100\n",
      "3224/3224 [==============================] - 0s 45us/step - loss: 0.1977 - acc: 0.9439 - val_loss: 0.1991 - val_acc: 0.9397\n",
      "Epoch 72/100\n",
      "3224/3224 [==============================] - 0s 41us/step - loss: 0.1966 - acc: 0.9442 - val_loss: 0.1984 - val_acc: 0.9397\n",
      "Epoch 73/100\n",
      "3224/3224 [==============================] - 0s 46us/step - loss: 0.1954 - acc: 0.9445 - val_loss: 0.1976 - val_acc: 0.9397\n",
      "Epoch 74/100\n",
      "3224/3224 [==============================] - 0s 41us/step - loss: 0.1944 - acc: 0.9451 - val_loss: 0.1969 - val_acc: 0.9405\n",
      "Epoch 75/100\n",
      "3224/3224 [==============================] - 0s 47us/step - loss: 0.1935 - acc: 0.9445 - val_loss: 0.1960 - val_acc: 0.9405\n",
      "Epoch 76/100\n",
      "3224/3224 [==============================] - 0s 44us/step - loss: 0.1922 - acc: 0.9445 - val_loss: 0.1954 - val_acc: 0.9405\n",
      "Epoch 77/100\n",
      "3224/3224 [==============================] - 0s 48us/step - loss: 0.1912 - acc: 0.9460 - val_loss: 0.1946 - val_acc: 0.9412\n",
      "Epoch 78/100\n",
      "3224/3224 [==============================] - 0s 47us/step - loss: 0.1902 - acc: 0.9463 - val_loss: 0.1940 - val_acc: 0.9412\n",
      "Epoch 79/100\n",
      "3224/3224 [==============================] - 0s 46us/step - loss: 0.1893 - acc: 0.9454 - val_loss: 0.1931 - val_acc: 0.9412\n",
      "Epoch 80/100\n",
      "3224/3224 [==============================] - 0s 46us/step - loss: 0.1881 - acc: 0.9463 - val_loss: 0.1925 - val_acc: 0.9412\n",
      "Epoch 81/100\n",
      "3224/3224 [==============================] - 0s 46us/step - loss: 0.1873 - acc: 0.9463 - val_loss: 0.1918 - val_acc: 0.9412\n",
      "Epoch 82/100\n",
      "3224/3224 [==============================] - 0s 46us/step - loss: 0.1863 - acc: 0.9470 - val_loss: 0.1912 - val_acc: 0.9412\n",
      "Epoch 83/100\n",
      "3224/3224 [==============================] - 0s 41us/step - loss: 0.1854 - acc: 0.9470 - val_loss: 0.1905 - val_acc: 0.9412\n",
      "Epoch 84/100\n",
      "3224/3224 [==============================] - 0s 46us/step - loss: 0.1844 - acc: 0.9473 - val_loss: 0.1898 - val_acc: 0.9412\n",
      "Epoch 85/100\n",
      "3224/3224 [==============================] - 0s 42us/step - loss: 0.1838 - acc: 0.9470 - val_loss: 0.1892 - val_acc: 0.9412\n",
      "Epoch 86/100\n",
      "3224/3224 [==============================] - 0s 49us/step - loss: 0.1827 - acc: 0.9476 - val_loss: 0.1885 - val_acc: 0.9412\n",
      "Epoch 87/100\n",
      "3224/3224 [==============================] - 0s 43us/step - loss: 0.1818 - acc: 0.9476 - val_loss: 0.1879 - val_acc: 0.9412\n",
      "Epoch 88/100\n",
      "3224/3224 [==============================] - 0s 54us/step - loss: 0.1809 - acc: 0.9473 - val_loss: 0.1870 - val_acc: 0.9426\n",
      "Epoch 89/100\n",
      "3224/3224 [==============================] - 0s 49us/step - loss: 0.1800 - acc: 0.9479 - val_loss: 0.1862 - val_acc: 0.9419\n",
      "Epoch 90/100\n",
      "3224/3224 [==============================] - 0s 46us/step - loss: 0.1788 - acc: 0.9479 - val_loss: 0.1853 - val_acc: 0.9426\n",
      "Epoch 91/100\n",
      "3224/3224 [==============================] - 0s 45us/step - loss: 0.1777 - acc: 0.9479 - val_loss: 0.1847 - val_acc: 0.9426\n",
      "Epoch 92/100\n",
      "3224/3224 [==============================] - 0s 51us/step - loss: 0.1768 - acc: 0.9479 - val_loss: 0.1842 - val_acc: 0.9419\n",
      "Epoch 93/100\n",
      "3224/3224 [==============================] - 0s 53us/step - loss: 0.1760 - acc: 0.9479 - val_loss: 0.1837 - val_acc: 0.9419\n",
      "Epoch 94/100\n",
      "3224/3224 [==============================] - 0s 40us/step - loss: 0.1752 - acc: 0.9473 - val_loss: 0.1832 - val_acc: 0.9426\n",
      "Epoch 95/100\n",
      "3224/3224 [==============================] - 0s 48us/step - loss: 0.1743 - acc: 0.9476 - val_loss: 0.1826 - val_acc: 0.9426\n",
      "Epoch 96/100\n",
      "3224/3224 [==============================] - 0s 54us/step - loss: 0.1735 - acc: 0.9479 - val_loss: 0.1821 - val_acc: 0.9426\n",
      "Epoch 97/100\n",
      "3224/3224 [==============================] - 0s 48us/step - loss: 0.1728 - acc: 0.9479 - val_loss: 0.1816 - val_acc: 0.9426\n",
      "Epoch 98/100\n",
      "3224/3224 [==============================] - 0s 48us/step - loss: 0.1719 - acc: 0.9479 - val_loss: 0.1813 - val_acc: 0.9426\n",
      "Epoch 99/100\n",
      "3224/3224 [==============================] - 0s 49us/step - loss: 0.1712 - acc: 0.9482 - val_loss: 0.1809 - val_acc: 0.9426\n",
      "Epoch 100/100\n",
      "3224/3224 [==============================] - 0s 52us/step - loss: 0.1704 - acc: 0.9473 - val_loss: 0.1805 - val_acc: 0.9426\n"
     ]
    }
   ],
   "source": [
    "history = model.fit(train_data,\n",
    "                    train_label,\n",
    "                    epochs=100,\n",
    "                    batch_size=100,\n",
    "                    validation_data=(test_data, test_label),\n",
    "                    verbose=1)"
   ]
  },
  {
   "cell_type": "code",
   "execution_count": 69,
   "metadata": {},
   "outputs": [],
   "source": [
    "history_dict = history.history\n",
    "history_dict.keys()\n",
    "dict_keys=['loss', 'val_loss', 'val_acc', 'acc']"
   ]
  },
  {
   "cell_type": "code",
   "execution_count": 70,
   "metadata": {},
   "outputs": [
    {
     "data": {
      "image/png": "[encoded data removed]",
      "text/plain": [
       "<Figure size 432x288 with 1 Axes>"
      ]
     },
     "metadata": {},
     "output_type": "display_data"
    }
   ],
   "source": [
    "import matplotlib.pyplot as plt\n",
    "%matplotlib inline\n",
    "acc = history.history['acc']\n",
    "val_acc = history.history['val_acc']\n",
    "loss = history.history['loss']\n",
    "val_loss = history.history['val_loss']\n",
    "\n",
    "epochs = range(1, len(acc) + 1)\n",
    "\n",
    "# \"bo\" is for \"blue dot\"\n",
    "plt.plot(epochs, loss, 'bo', label='Training loss')\n",
    "# b is for \"solid blue line\"\n",
    "plt.plot(epochs, val_loss, 'b', label='Validation loss')\n",
    "plt.title('Training and validation loss')\n",
    "plt.xlabel('Epochs')\n",
    "plt.ylabel('Loss')\n",
    "plt.legend()\n",
    "\n",
    "plt.show()"
   ]
  },
  {
   "cell_type": "code",
   "execution_count": 71,
   "metadata": {},
   "outputs": [
    {
     "data": {
      "image/png": "[encoded data removed]",
      "text/plain": [
       "<Figure size 432x288 with 1 Axes>"
      ]
     },
     "metadata": {},
     "output_type": "display_data"
    }
   ],
   "source": [
    "acc_values = history_dict['acc']\n",
    "val_acc_values = history_dict['val_acc']\n",
    "\n",
    "plt.plot(epochs, acc, 'bo', label='Training acc')\n",
    "plt.plot(epochs, val_acc, 'b', label='Validation acc')\n",
    "plt.title('Training and validation accuracy')\n",
    "plt.xlabel('Epochs')\n",
    "plt.ylabel('Accuracy')\n",
    "plt.legend()\n",
    "\n",
    "plt.show()"
   ]
  },
  {
   "cell_type": "code",
   "execution_count": 72,
   "metadata": {},
   "outputs": [],
   "source": [
    "predictions = model.predict(train_data)"
   ]
  },
  {
   "cell_type": "code",
   "execution_count": 73,
   "metadata": {},
   "outputs": [],
   "source": [
    "def load_prediction_data(file_path):\n",
    "    data=[]\n",
    "    with open(file_path,\"r\") as data_file:\n",
    "        raw_data=data_file.readlines()\n",
    "        for raw_line in raw_data:\n",
    "            sample=raw_line[:-1]\n",
    "            sample=sample.split(\",\")\n",
    "            sample=np.array([float(feature) for feature in sample])\n",
    "            sample[-3]/=10\n",
    "            sample[-2]/=100\n",
    "            sample[-1]/=1000\n",
    "            data.append(sample)\n",
    "    return np.array(data)\n",
    "prediction_data=load_prediction_data(\".\\get_the_flag.data\")"
   ]
  },
  {
   "cell_type": "code",
   "execution_count": 74,
   "metadata": {},
   "outputs": [],
   "source": [
    "predictions = model.predict(prediction_data)"
   ]
  },
  {
   "cell_type": "code",
   "execution_count": 75,
   "metadata": {},
   "outputs": [
    {
     "name": "stdout",
     "output_type": "stream",
     "text": [
      "10001001110101110100111011011100100101111110000011001001"
     ]
    },
    {
     "data": {
      "image/png": "[encoded data removed]",
      "text/plain": [
       "<Figure size 3600x72 with 1 Axes>"
      ]
     },
     "metadata": {},
     "output_type": "display_data"
    }
   ],
   "source": [
    "data_show=[]\n",
    "count = 0\n",
    "num = 1\n",
    "for i in predictions:\n",
    "    if i[0]<0.5:\n",
    "        data_show.append(0)\n",
    "    else:\n",
    "        data_show.append(1)\n",
    "        count=count+1\n",
    "        \n",
    "        \n",
    "    if num%10 == 0:\n",
    "        if count>5:\n",
    "            print('1',end =\"\")\n",
    "        else:\n",
    "            print('0',end =\"\")\n",
    "        count=0\n",
    "    num+=1\n",
    "plt.rcParams['figure.figsize'] = (50.0, 1.0) \n",
    "plt.scatter(range(len(data_show)),data_show,linewidth=0.1,s=10)\n",
    "plt.show()"
   ]
  },
  {
   "cell_type": "code",
   "execution_count": null,
   "metadata": {},
   "outputs": [],
   "source": []
  }
 ],
 "metadata": {
  "kernelspec": {
   "display_name": "Python 3",
   "language": "python",
   "name": "python3"
  },
  "language_info": {
   "codemirror_mode": {
    "name": "ipython",
    "version": 3
   },
   "file_extension": ".py",
   "mimetype": "text/x-python",
   "name": "python",
   "nbconvert_exporter": "python",
   "pygments_lexer": "ipython3",
   "version": "3.6.5"
  }
 },
 "nbformat": 4,
 "nbformat_minor": 2
}
