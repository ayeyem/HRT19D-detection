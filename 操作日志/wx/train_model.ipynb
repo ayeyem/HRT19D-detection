{
 "cells": [
  {
   "cell_type": "markdown",
   "metadata": {},
   "source": [
    "import相应模块"
   ]
  },
  {
   "cell_type": "code",
   "execution_count": 4,
   "metadata": {},
   "outputs": [],
   "source": [
    "import numpy as np \n",
    "import matplotlib.pyplot as plt \n",
    "from keras.models import Sequential\n",
    "from keras.layers import Dense,Dropout, Activation\n",
    "from keras.optimizers import Adam"
   ]
  },
  {
   "cell_type": "markdown",
   "metadata": {},
   "source": [
    "载入data"
   ]
  },
  {
   "cell_type": "code",
   "execution_count": 5,
   "metadata": {},
   "outputs": [],
   "source": [
    "def load_data(file):\n",
    "    data = []\n",
    "    label = []\n",
    "    with open(file,\"r\") as data_file:\n",
    "        raw_data = data_file.readlines()\n",
    "        for raw_line in raw_data:\n",
    "            sample=raw_line[:-1]\n",
    "            sample = sample.split(\",\")\n",
    "            label.append(sample[-1])\n",
    "            sample=np.array([float(feature) for feature in sample[:-1]])\n",
    "            sample[-3]/=1000\n",
    "            sample[-2]/=1000\n",
    "            sample[-1]/=1000\n",
    "            data.append(sample)\n",
    "    return np.array(data),np.array(label)"
   ]
  },
  {
   "cell_type": "code",
   "execution_count": 6,
   "metadata": {},
   "outputs": [],
   "source": [
    "train_data,train_label=load_data(\"./train.data\")\n",
    "test_data,test_label=load_data(\"./test.data\")"
   ]
  },
  {
   "cell_type": "code",
   "execution_count": 7,
   "metadata": {},
   "outputs": [
    {
     "data": {
      "text/plain": [
       "array([0.      , 0.64    , 0.64    , 0.      , 0.32    , 0.      ,\n",
       "       0.      , 0.      , 0.      , 0.      , 0.      , 0.64    ,\n",
       "       0.      , 0.      , 0.      , 0.32    , 0.      , 1.29    ,\n",
       "       1.93    , 0.      , 0.96    , 0.      , 0.      , 0.      ,\n",
       "       0.      , 0.      , 0.      , 0.      , 0.      , 0.      ,\n",
       "       0.      , 0.      , 0.      , 0.      , 0.      , 0.      ,\n",
       "       0.      , 0.      , 0.      , 0.      , 0.      , 0.      ,\n",
       "       0.      , 0.      , 0.      , 0.      , 0.      , 0.      ,\n",
       "       0.      , 0.      , 0.      , 0.778   , 0.      , 0.      ,\n",
       "       0.003756, 0.061   , 0.278   ])"
      ]
     },
     "execution_count": 7,
     "metadata": {},
     "output_type": "execute_result"
    }
   ],
   "source": [
    "train_data[0]"
   ]
  },
  {
   "cell_type": "markdown",
   "metadata": {},
   "source": [
    "开始搭建神经网络"
   ]
  },
  {
   "cell_type": "code",
   "execution_count": 8,
   "metadata": {},
   "outputs": [],
   "source": [
    "model = Sequential([\n",
    "    Dense(32,input_dim=57),\n",
    "    Activation(\"softplus\"),\n",
    "    Dropout(0.5),\n",
    "    Dense(1),\n",
    "    Activation(\"sigmoid\")\n",
    "    ])"
   ]
  },
  {
   "cell_type": "code",
   "execution_count": 9,
   "metadata": {},
   "outputs": [],
   "source": [
    "adam = Adam(lr=0.001, beta_1=0.9, beta_2=0.999, epsilon=1e-08)\n",
    "model.compile(optimizer = adam,loss = 'binary_crossentropy',metrics=['accuracy'])"
   ]
  },
  {
   "cell_type": "code",
   "execution_count": 10,
   "metadata": {},
   "outputs": [
    {
     "name": "stdout",
     "output_type": "stream",
     "text": [
      "Train on 3224 samples, validate on 1377 samples\n",
      "Epoch 1/40\n",
      "3224/3224 [==============================] - 0s - loss: 0.6265 - acc: 0.6756 - val_loss: 0.3845 - val_acc: 0.8773\n",
      "Epoch 2/40\n",
      "3224/3224 [==============================] - 0s - loss: 0.4607 - acc: 0.7711 - val_loss: 0.3109 - val_acc: 0.9049\n",
      "Epoch 3/40\n",
      "3224/3224 [==============================] - 0s - loss: 0.4011 - acc: 0.8136 - val_loss: 0.2752 - val_acc: 0.9136\n",
      "Epoch 4/40\n",
      "3224/3224 [==============================] - 0s - loss: 0.3540 - acc: 0.8496 - val_loss: 0.2527 - val_acc: 0.9172\n",
      "Epoch 5/40\n",
      "3224/3224 [==============================] - 0s - loss: 0.3211 - acc: 0.8645 - val_loss: 0.2391 - val_acc: 0.9223\n",
      "Epoch 6/40\n",
      "3224/3224 [==============================] - 0s - loss: 0.3253 - acc: 0.8601 - val_loss: 0.2306 - val_acc: 0.9252\n",
      "Epoch 7/40\n",
      "3224/3224 [==============================] - 0s - loss: 0.2864 - acc: 0.8824 - val_loss: 0.2238 - val_acc: 0.9274\n",
      "Epoch 8/40\n",
      "3224/3224 [==============================] - 0s - loss: 0.2821 - acc: 0.8859 - val_loss: 0.2191 - val_acc: 0.9296\n",
      "Epoch 9/40\n",
      "3224/3224 [==============================] - 0s - loss: 0.2778 - acc: 0.8917 - val_loss: 0.2152 - val_acc: 0.9317\n",
      "Epoch 10/40\n",
      "3224/3224 [==============================] - 0s - loss: 0.2671 - acc: 0.8924 - val_loss: 0.2124 - val_acc: 0.9310\n",
      "Epoch 11/40\n",
      "3224/3224 [==============================] - 0s - loss: 0.2664 - acc: 0.8902 - val_loss: 0.2100 - val_acc: 0.9332\n",
      "Epoch 12/40\n",
      "3224/3224 [==============================] - 0s - loss: 0.2757 - acc: 0.8908 - val_loss: 0.2085 - val_acc: 0.9332\n",
      "Epoch 13/40\n",
      "3224/3224 [==============================] - 0s - loss: 0.2498 - acc: 0.9011 - val_loss: 0.2063 - val_acc: 0.9368\n",
      "Epoch 14/40\n",
      "3224/3224 [==============================] - 0s - loss: 0.2437 - acc: 0.8986 - val_loss: 0.2049 - val_acc: 0.9332\n",
      "Epoch 15/40\n",
      "3224/3224 [==============================] - 0s - loss: 0.2534 - acc: 0.9004 - val_loss: 0.2039 - val_acc: 0.9354\n",
      "Epoch 16/40\n",
      "3224/3224 [==============================] - 0s - loss: 0.2410 - acc: 0.9116 - val_loss: 0.2024 - val_acc: 0.9361\n",
      "Epoch 17/40\n",
      "3224/3224 [==============================] - 0s - loss: 0.2370 - acc: 0.9069 - val_loss: 0.2016 - val_acc: 0.9354\n",
      "Epoch 18/40\n",
      "3224/3224 [==============================] - 0s - loss: 0.2417 - acc: 0.9066 - val_loss: 0.2002 - val_acc: 0.9375\n",
      "Epoch 19/40\n",
      "3224/3224 [==============================] - 0s - loss: 0.2313 - acc: 0.9163 - val_loss: 0.1984 - val_acc: 0.9375\n",
      "Epoch 20/40\n",
      "3224/3224 [==============================] - 0s - loss: 0.2309 - acc: 0.9094 - val_loss: 0.1977 - val_acc: 0.9383\n",
      "Epoch 21/40\n",
      "3224/3224 [==============================] - 0s - loss: 0.2389 - acc: 0.9029 - val_loss: 0.1970 - val_acc: 0.9383\n",
      "Epoch 22/40\n",
      "3224/3224 [==============================] - 0s - loss: 0.2216 - acc: 0.9156 - val_loss: 0.1961 - val_acc: 0.9390\n",
      "Epoch 23/40\n",
      "3224/3224 [==============================] - 0s - loss: 0.2317 - acc: 0.9156 - val_loss: 0.1950 - val_acc: 0.9383\n",
      "Epoch 24/40\n",
      "3224/3224 [==============================] - 0s - loss: 0.2270 - acc: 0.9116 - val_loss: 0.1946 - val_acc: 0.9368\n",
      "Epoch 25/40\n",
      "3224/3224 [==============================] - 0s - loss: 0.2307 - acc: 0.9147 - val_loss: 0.1936 - val_acc: 0.9383\n",
      "Epoch 26/40\n",
      "3224/3224 [==============================] - 0s - loss: 0.2206 - acc: 0.9132 - val_loss: 0.1928 - val_acc: 0.9390\n",
      "Epoch 27/40\n",
      "3224/3224 [==============================] - 0s - loss: 0.2190 - acc: 0.9147 - val_loss: 0.1923 - val_acc: 0.9375\n",
      "Epoch 28/40\n",
      "3224/3224 [==============================] - 0s - loss: 0.2183 - acc: 0.9159 - val_loss: 0.1921 - val_acc: 0.9375\n",
      "Epoch 29/40\n",
      "3224/3224 [==============================] - 0s - loss: 0.2145 - acc: 0.9128 - val_loss: 0.1911 - val_acc: 0.9375\n",
      "Epoch 30/40\n",
      "3224/3224 [==============================] - 0s - loss: 0.2148 - acc: 0.9221 - val_loss: 0.1905 - val_acc: 0.9383\n",
      "Epoch 31/40\n",
      "3224/3224 [==============================] - 0s - loss: 0.2137 - acc: 0.9206 - val_loss: 0.1901 - val_acc: 0.9383\n",
      "Epoch 32/40\n",
      "3224/3224 [==============================] - 0s - loss: 0.2128 - acc: 0.9175 - val_loss: 0.1894 - val_acc: 0.9375\n",
      "Epoch 33/40\n",
      "3224/3224 [==============================] - 0s - loss: 0.2103 - acc: 0.9190 - val_loss: 0.1888 - val_acc: 0.9375\n",
      "Epoch 34/40\n",
      "3224/3224 [==============================] - 0s - loss: 0.2138 - acc: 0.9184 - val_loss: 0.1884 - val_acc: 0.9390\n",
      "Epoch 35/40\n",
      "3224/3224 [==============================] - 0s - loss: 0.2069 - acc: 0.9231 - val_loss: 0.1880 - val_acc: 0.9375\n",
      "Epoch 36/40\n",
      "3224/3224 [==============================] - 0s - loss: 0.2037 - acc: 0.9218 - val_loss: 0.1878 - val_acc: 0.9390\n",
      "Epoch 37/40\n",
      "3224/3224 [==============================] - 0s - loss: 0.2083 - acc: 0.9231 - val_loss: 0.1875 - val_acc: 0.9390\n",
      "Epoch 38/40\n",
      "3224/3224 [==============================] - 0s - loss: 0.2093 - acc: 0.9178 - val_loss: 0.1868 - val_acc: 0.9397\n",
      "Epoch 39/40\n",
      "3224/3224 [==============================] - 0s - loss: 0.2090 - acc: 0.9184 - val_loss: 0.1866 - val_acc: 0.9397\n",
      "Epoch 40/40\n",
      "3224/3224 [==============================] - 0s - loss: 0.2046 - acc: 0.9212 - val_loss: 0.1861 - val_acc: 0.9405\n"
     ]
    }
   ],
   "source": [
    "history = model.fit(train_data,\n",
    "                    train_label,\n",
    "                    epochs = 40,\n",
    "                    batch_size = 32,\n",
    "                    validation_data=(test_data, test_label),\n",
    "                    verbose=1)"
   ]
  },
  {
   "cell_type": "code",
   "execution_count": 12,
   "metadata": {},
   "outputs": [],
   "source": [
    "history_dict = history.history\n",
    "acc = history.history['acc']\n",
    "val_acc = history.history['val_acc']\n",
    "loss = history.history['loss']\n",
    "val_loss = history.history['val_loss']"
   ]
  },
  {
   "cell_type": "code",
   "execution_count": 13,
   "metadata": {},
   "outputs": [],
   "source": [
    "epochs = range(1,len(acc)+1)"
   ]
  },
  {
   "cell_type": "markdown",
   "metadata": {},
   "source": [
    "绘制loss函数曲线"
   ]
  },
  {
   "cell_type": "code",
   "execution_count": 14,
   "metadata": {},
   "outputs": [
    {
     "data": {
      "image/png": "[encoded data removed]",
      "text/plain": [
       "<Figure size 432x288 with 1 Axes>"
      ]
     },
     "metadata": {},
     "output_type": "display_data"
    }
   ],
   "source": [
    "plt.plot(epochs, loss, 'bo', label='Training loss')\n",
    "\n",
    "plt.plot(epochs, val_loss, 'b', label='Validation loss')\n",
    "plt.title('Training and validation loss')\n",
    "plt.xlabel('Epochs')\n",
    "plt.ylabel('Loss')\n",
    "plt.legend()\n",
    "\n",
    "plt.show()"
   ]
  },
  {
   "cell_type": "markdown",
   "metadata": {},
   "source": [
    "绘制accuracy曲线"
   ]
  },
  {
   "cell_type": "code",
   "execution_count": 15,
   "metadata": {},
   "outputs": [
    {
     "data": {
      "image/png": "[encoded data removed]",
      "text/plain": [
       "<Figure size 432x288 with 1 Axes>"
      ]
     },
     "metadata": {},
     "output_type": "display_data"
    }
   ],
   "source": [
    "cc_values = history_dict['acc']\n",
    "val_acc_values = history_dict['val_acc']\n",
    "\n",
    "plt.plot(epochs, acc, 'ro', label='Training acc')\n",
    "plt.plot(epochs, val_acc, 'r', label='Validation acc')\n",
    "plt.title('Training and validation accuracy')\n",
    "plt.xlabel('Epochs')\n",
    "plt.ylabel('Accuracy')\n",
    "plt.legend()\n",
    "\n",
    "plt.show()"
   ]
  },
  {
   "cell_type": "markdown",
   "metadata": {},
   "source": [
    "观察发现，测试集效果好于训练集，可以使用。"
   ]
  },
  {
   "cell_type": "markdown",
   "metadata": {},
   "source": [
    "保存模型"
   ]
  },
  {
   "cell_type": "code",
   "execution_count": 16,
   "metadata": {},
   "outputs": [],
   "source": [
    "model.save('my_model.h5')"
   ]
  },
  {
   "cell_type": "code",
   "execution_count": null,
   "metadata": {},
   "outputs": [],
   "source": []
  }
 ],
 "metadata": {
  "kernelspec": {
   "display_name": "Python 3",
   "language": "python",
   "name": "python3"
  },
  "language_info": {
   "codemirror_mode": {
    "name": "ipython",
    "version": 3
   },
   "file_extension": ".py",
   "mimetype": "text/x-python",
   "name": "python",
   "nbconvert_exporter": "python",
   "pygments_lexer": "ipython3",
   "version": "3.6.5"
  }
 },
 "nbformat": 4,
 "nbformat_minor": 2
}
