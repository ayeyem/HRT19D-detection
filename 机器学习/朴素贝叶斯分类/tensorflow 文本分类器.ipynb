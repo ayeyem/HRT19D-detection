{
 "cells": [
  {
   "cell_type": "markdown",
   "metadata": {},
   "source": [
    "# 垃圾邮件文本分类\n",
    "----\n",
    "使用tensorflow 重新进行文本分类，最终在测试集上的损失率降低至0.17 准确率达到0.95以上。"
   ]
  },
  {
   "cell_type": "code",
   "execution_count": 1,
   "metadata": {},
   "outputs": [],
   "source": [
    "import tensorflow as tf\n",
    "from tensorflow import keras\n",
    "import numpy as np"
   ]
  },
  {
   "cell_type": "markdown",
   "metadata": {},
   "source": [
    "代码开始时先引入需要的包，Python 为解释行语言，所以可以在任何地方引入想要的包。\n",
    "\n",
    "import tensorflow as tf \n",
    "\n",
    "引入 tensorflow 这个包，并将这个包的名字重命名为 tf 这样就可以使用 tf.xxx 来调用 tf 包里的内容。\n",
    "\n",
    "\n",
    "from tensorflow import keras\n",
    "\n",
    "从tensorflow 中引入 keras 模块。 keras 中主要实现了高阶的机器学习网络模型，可以使网络的搭建更简单。"
   ]
  },
  {
   "cell_type": "code",
   "execution_count": 2,
   "metadata": {},
   "outputs": [],
   "source": [
    "def load_data(file_path):\n",
    "    data=[]\n",
    "    label=[]\n",
    "    with open(file_path,\"r\") as data_file:\n",
    "        raw_data=data_file.readlines()\n",
    "        for raw_line in raw_data:\n",
    "            sample=raw_line[:-1]\n",
    "            sample=sample.split(\",\")\n",
    "            label.append(sample[-1])\n",
    "            sample=np.array([float(feature) for feature in sample[:-1]])\n",
    "            sample[-3]/=10\n",
    "            sample[-2]/=100\n",
    "            sample[-1]/=1000\n",
    "            data.append(sample)\n",
    "    return np.array(data),np.array(label)\n",
    "train_data,train_label=load_data(\"./spambase_train.data\")\n",
    "test_data,test_label=load_data(\"./spambase_test.data\")"
   ]
  },
  {
   "cell_type": "markdown",
   "metadata": {},
   "source": [
    "定义了一个从文件中读取数据的函数。"
   ]
  },
  {
   "cell_type": "code",
   "execution_count": 3,
   "metadata": {},
   "outputs": [
    {
     "data": {
      "text/plain": [
       "1377"
      ]
     },
     "execution_count": 3,
     "metadata": {},
     "output_type": "execute_result"
    }
   ],
   "source": [
    "len(test_data)"
   ]
  },
  {
   "cell_type": "code",
   "execution_count": 4,
   "metadata": {},
   "outputs": [
    {
     "data": {
      "text/plain": [
       "array([0.    , 0.42  , 0.42  , 0.    , 1.27  , 0.    , 0.42  , 0.    ,\n",
       "       0.    , 1.27  , 0.    , 0.    , 0.    , 0.    , 0.    , 1.27  ,\n",
       "       0.    , 0.    , 1.7   , 0.42  , 1.27  , 0.    , 0.    , 0.42  ,\n",
       "       0.    , 0.    , 0.    , 0.    , 0.    , 0.    , 0.    , 0.    ,\n",
       "       0.    , 0.    , 0.    , 0.    , 1.27  , 0.    , 0.    , 0.42  ,\n",
       "       0.    , 0.    , 0.    , 0.    , 0.    , 0.    , 0.    , 0.    ,\n",
       "       0.    , 0.063 , 0.    , 0.572 , 0.063 , 0.    , 0.5659, 0.55  ,\n",
       "       0.249 ])"
      ]
     },
     "execution_count": 4,
     "metadata": {},
     "output_type": "execute_result"
    }
   ],
   "source": [
    "train_data[10]"
   ]
  },
  {
   "cell_type": "markdown",
   "metadata": {},
   "source": [
    "keras 中的模型完全由 python 语言描述，相比之下，其它框架可能需要配置文件。\n",
    "\n",
    "下面这个模型共两层，其中第一层共57个结点，激活函数为 softmax ，第二层只有1个结点，激活函数为sigmoid。\n",
    "\n",
    "在模型定义好后需编译模型，这是可以选用优化器，损失函数和优化目标。这里使用的是对数损失函数，\n",
    "\n",
    "最终设定超参数，让模型去适应训练集和测试集。其中，所有训练样本完成一次正向传播和反向传播称为一个epoch。 batch_size 为在使用随机梯度下降时一组数据的数据量。"
   ]
  },
  {
   "cell_type": "code",
   "execution_count": 5,
   "metadata": {},
   "outputs": [],
   "source": [
    "from tensorflow.keras import layers\n",
    "model = tf.keras.Sequential([\n",
    "layers.Dense(57, activation='softmax'),\n",
    "layers.Dense(1, activation='sigmoid')])"
   ]
  },
  {
   "cell_type": "code",
   "execution_count": 6,
   "metadata": {},
   "outputs": [],
   "source": [
    "model.compile(optimizer=tf.train.AdamOptimizer(),\n",
    "              loss='binary_crossentropy',\n",
    "              metrics=['accuracy'])"
   ]
  },
  {
   "cell_type": "code",
   "execution_count": 7,
   "metadata": {},
   "outputs": [
    {
     "name": "stdout",
     "output_type": "stream",
     "text": [
      "Train on 3224 samples, validate on 1377 samples\n",
      "Epoch 1/40\n",
      "3224/3224 [==============================] - 1s 177us/step - loss: 0.6893 - acc: 0.6334 - val_loss: 0.6779 - val_acc: 0.8170\n",
      "Epoch 2/40\n",
      "3224/3224 [==============================] - 0s 28us/step - loss: 0.6709 - acc: 0.7829 - val_loss: 0.6589 - val_acc: 0.8017\n",
      "Epoch 3/40\n",
      "3224/3224 [==============================] - 0s 31us/step - loss: 0.6520 - acc: 0.7832 - val_loss: 0.6380 - val_acc: 0.8206\n",
      "Epoch 4/40\n",
      "3224/3224 [==============================] - 0s 32us/step - loss: 0.6312 - acc: 0.8151 - val_loss: 0.6150 - val_acc: 0.8453\n",
      "Epoch 5/40\n",
      "3224/3224 [==============================] - 0s 29us/step - loss: 0.6092 - acc: 0.8396 - val_loss: 0.5914 - val_acc: 0.8758\n",
      "Epoch 6/40\n",
      "3224/3224 [==============================] - 0s 34us/step - loss: 0.5866 - acc: 0.8583 - val_loss: 0.5677 - val_acc: 0.8911\n",
      "Epoch 7/40\n",
      "3224/3224 [==============================] - 0s 30us/step - loss: 0.5640 - acc: 0.8775 - val_loss: 0.5443 - val_acc: 0.8991\n",
      "Epoch 8/40\n",
      "3224/3224 [==============================] - 0s 27us/step - loss: 0.5418 - acc: 0.8828 - val_loss: 0.5213 - val_acc: 0.9049\n",
      "Epoch 9/40\n",
      "3224/3224 [==============================] - 0s 30us/step - loss: 0.5202 - acc: 0.8955 - val_loss: 0.4998 - val_acc: 0.9092\n",
      "Epoch 10/40\n",
      "3224/3224 [==============================] - 0s 36us/step - loss: 0.5001 - acc: 0.9014 - val_loss: 0.4798 - val_acc: 0.9092\n",
      "Epoch 11/40\n",
      "3224/3224 [==============================] - 0s 30us/step - loss: 0.4812 - acc: 0.9060 - val_loss: 0.4611 - val_acc: 0.9150\n",
      "Epoch 12/40\n",
      "3224/3224 [==============================] - 0s 53us/step - loss: 0.4635 - acc: 0.9116 - val_loss: 0.4436 - val_acc: 0.9179\n",
      "Epoch 13/40\n",
      "3224/3224 [==============================] - 0s 42us/step - loss: 0.4468 - acc: 0.9141 - val_loss: 0.4272 - val_acc: 0.9223\n",
      "Epoch 14/40\n",
      "3224/3224 [==============================] - 0s 34us/step - loss: 0.4313 - acc: 0.9169 - val_loss: 0.4118 - val_acc: 0.9281\n",
      "Epoch 15/40\n",
      "3224/3224 [==============================] - 0s 36us/step - loss: 0.4166 - acc: 0.9184 - val_loss: 0.3974 - val_acc: 0.9281\n",
      "Epoch 16/40\n",
      "3224/3224 [==============================] - 0s 42us/step - loss: 0.4031 - acc: 0.9212 - val_loss: 0.3841 - val_acc: 0.9303\n",
      "Epoch 17/40\n",
      "3224/3224 [==============================] - 0s 51us/step - loss: 0.3905 - acc: 0.9237 - val_loss: 0.3720 - val_acc: 0.9296\n",
      "Epoch 18/40\n",
      "3224/3224 [==============================] - 0s 40us/step - loss: 0.3789 - acc: 0.9262 - val_loss: 0.3608 - val_acc: 0.9288\n",
      "Epoch 19/40\n",
      "3224/3224 [==============================] - 0s 35us/step - loss: 0.3683 - acc: 0.9268 - val_loss: 0.3503 - val_acc: 0.9303\n",
      "Epoch 20/40\n",
      "3224/3224 [==============================] - 0s 35us/step - loss: 0.3584 - acc: 0.9287 - val_loss: 0.3409 - val_acc: 0.9332\n",
      "Epoch 21/40\n",
      "3224/3224 [==============================] - 0s 53us/step - loss: 0.3494 - acc: 0.9299 - val_loss: 0.3324 - val_acc: 0.9332\n",
      "Epoch 22/40\n",
      "3224/3224 [==============================] - 0s 36us/step - loss: 0.3412 - acc: 0.9308 - val_loss: 0.3245 - val_acc: 0.9339\n",
      "Epoch 23/40\n",
      "3224/3224 [==============================] - 0s 33us/step - loss: 0.3337 - acc: 0.9311 - val_loss: 0.3171 - val_acc: 0.9332\n",
      "Epoch 24/40\n",
      "3224/3224 [==============================] - 0s 38us/step - loss: 0.3266 - acc: 0.9308 - val_loss: 0.3104 - val_acc: 0.9332\n",
      "Epoch 25/40\n",
      "3224/3224 [==============================] - 0s 43us/step - loss: 0.3201 - acc: 0.9308 - val_loss: 0.3040 - val_acc: 0.9317\n",
      "Epoch 26/40\n",
      "3224/3224 [==============================] - 0s 46us/step - loss: 0.3140 - acc: 0.9315 - val_loss: 0.2981 - val_acc: 0.9332\n",
      "Epoch 27/40\n",
      "3224/3224 [==============================] - 0s 52us/step - loss: 0.3083 - acc: 0.9318 - val_loss: 0.2927 - val_acc: 0.9339\n",
      "Epoch 28/40\n",
      "3224/3224 [==============================] - 0s 54us/step - loss: 0.3030 - acc: 0.9318 - val_loss: 0.2876 - val_acc: 0.9339\n",
      "Epoch 29/40\n",
      "3224/3224 [==============================] - 0s 60us/step - loss: 0.2980 - acc: 0.9321 - val_loss: 0.2830 - val_acc: 0.9332\n",
      "Epoch 30/40\n",
      "3224/3224 [==============================] - 0s 30us/step - loss: 0.2933 - acc: 0.9327 - val_loss: 0.2783 - val_acc: 0.9346\n",
      "Epoch 31/40\n",
      "3224/3224 [==============================] - 0s 58us/step - loss: 0.2888 - acc: 0.9327 - val_loss: 0.2741 - val_acc: 0.9339\n",
      "Epoch 32/40\n",
      "3224/3224 [==============================] - 0s 38us/step - loss: 0.2846 - acc: 0.9330 - val_loss: 0.2702 - val_acc: 0.9354\n",
      "Epoch 33/40\n",
      "3224/3224 [==============================] - 0s 44us/step - loss: 0.2807 - acc: 0.9339 - val_loss: 0.2665 - val_acc: 0.9368\n",
      "Epoch 34/40\n",
      "3224/3224 [==============================] - 0s 47us/step - loss: 0.2769 - acc: 0.9336 - val_loss: 0.2632 - val_acc: 0.9361\n",
      "Epoch 35/40\n",
      "3224/3224 [==============================] - 0s 39us/step - loss: 0.2733 - acc: 0.9336 - val_loss: 0.2598 - val_acc: 0.9368\n",
      "Epoch 36/40\n",
      "3224/3224 [==============================] - 0s 63us/step - loss: 0.2699 - acc: 0.9333 - val_loss: 0.2567 - val_acc: 0.9368\n",
      "Epoch 37/40\n",
      "3224/3224 [==============================] - 0s 35us/step - loss: 0.2665 - acc: 0.9336 - val_loss: 0.2538 - val_acc: 0.9368\n",
      "Epoch 38/40\n",
      "3224/3224 [==============================] - 0s 26us/step - loss: 0.2634 - acc: 0.9336 - val_loss: 0.2509 - val_acc: 0.9361\n",
      "Epoch 39/40\n",
      "3224/3224 [==============================] - 0s 35us/step - loss: 0.2604 - acc: 0.9336 - val_loss: 0.2483 - val_acc: 0.9354\n",
      "Epoch 40/40\n",
      "3224/3224 [==============================] - 0s 34us/step - loss: 0.2575 - acc: 0.9333 - val_loss: 0.2457 - val_acc: 0.9346\n"
     ]
    }
   ],
   "source": [
    "history = model.fit(train_data,\n",
    "                    train_label,\n",
    "                    epochs=40,\n",
    "                    batch_size=100,\n",
    "                    validation_data=(test_data, test_label),\n",
    "                    verbose=1)"
   ]
  },
  {
   "cell_type": "code",
   "execution_count": 8,
   "metadata": {},
   "outputs": [],
   "source": [
    "history_dict = history.history\n",
    "history_dict.keys()\n",
    "dict_keys=['loss', 'val_loss', 'val_acc', 'acc']"
   ]
  },
  {
   "cell_type": "code",
   "execution_count": 9,
   "metadata": {},
   "outputs": [
    {
     "data": {
      "image/png": "[encoded data removed]",
      "text/plain": [
       "<Figure size 432x288 with 1 Axes>"
      ]
     },
     "metadata": {
      "needs_background": "light"
     },
     "output_type": "display_data"
    }
   ],
   "source": [
    "import matplotlib.pyplot as plt\n",
    "%matplotlib inline\n",
    "acc = history.history['acc']\n",
    "val_acc = history.history['val_acc']\n",
    "loss = history.history['loss']\n",
    "val_loss = history.history['val_loss']\n",
    "\n",
    "epochs = range(1, len(acc) + 1)\n",
    "\n",
    "# \"bo\" is for \"blue dot\"\n",
    "plt.plot(epochs, loss, 'bo', label='Training loss')\n",
    "# b is for \"solid blue line\"\n",
    "plt.plot(epochs, val_loss, 'b', label='Validation loss')\n",
    "plt.title('Training and validation loss')\n",
    "plt.xlabel('Epochs')\n",
    "plt.ylabel('Loss')\n",
    "plt.legend()\n",
    "\n",
    "plt.show()"
   ]
  },
  {
   "cell_type": "code",
   "execution_count": 10,
   "metadata": {},
   "outputs": [
    {
     "data": {
      "image/png": "[encoded data removed]",
      "text/plain": [
       "<Figure size 432x288 with 1 Axes>"
      ]
     },
     "metadata": {
      "needs_background": "light"
     },
     "output_type": "display_data"
    }
   ],
   "source": [
    "acc_values = history_dict['acc']\n",
    "val_acc_values = history_dict['val_acc']\n",
    "\n",
    "plt.plot(epochs, acc, 'bo', label='Training acc')\n",
    "plt.plot(epochs, val_acc, 'b', label='Validation acc')\n",
    "plt.title('Training and validation accuracy')\n",
    "plt.xlabel('Epochs')\n",
    "plt.ylabel('Accuracy')\n",
    "plt.legend()\n",
    "\n",
    "plt.show()"
   ]
  },
  {
   "cell_type": "code",
   "execution_count": 13,
   "metadata": {},
   "outputs": [],
   "source": [
    "predictions = model.predict(train_data)"
   ]
  },
  {
   "cell_type": "code",
   "execution_count": 26,
   "metadata": {},
   "outputs": [],
   "source": [
    "def load_prediction_data(file_path):\n",
    "    data=[]\n",
    "    with open(file_path,\"r\") as data_file:\n",
    "        raw_data=data_file.readlines()\n",
    "        for raw_line in raw_data:\n",
    "            sample=raw_line[:-1]\n",
    "            sample=sample.split(\",\")\n",
    "            sample=np.array([float(feature) for feature in sample])\n",
    "            sample[-3]/=10\n",
    "            sample[-2]/=100\n",
    "            sample[-1]/=1000\n",
    "            data.append(sample)\n",
    "    return np.array(data)\n",
    "prediction_data=load_prediction_data(\".\\get_the_flag.data\")"
   ]
  },
  {
   "cell_type": "code",
   "execution_count": 27,
   "metadata": {},
   "outputs": [],
   "source": [
    "predictions = model.predict(prediction_data)"
   ]
  },
  {
   "cell_type": "code",
   "execution_count": 32,
   "metadata": {},
   "outputs": [
    {
     "data": {
      "image/png": "[encoded data removed]",
      "text/plain": [
       "<Figure size 3600x72 with 1 Axes>"
      ]
     },
     "metadata": {
      "needs_background": "light"
     },
     "output_type": "display_data"
    }
   ],
   "source": [
    "data_show=[]\n",
    "for i in predictions:\n",
    "    if i[0]<0.5:\n",
    "        data_show.append(0)\n",
    "    else:\n",
    "        data_show.append(1)\n",
    "plt.rcParams['figure.figsize'] = (50.0, 1.0) \n",
    "plt.scatter(range(len(data_show)),data_show,linewidth=0.1,s=10)\n",
    "plt.show()"
   ]
  },
  {
   "cell_type": "code",
   "execution_count": null,
   "metadata": {},
   "outputs": [],
   "source": []
  }
 ],
 "metadata": {
  "kernelspec": {
   "display_name": "Python 3",
   "language": "python",
   "name": "python3"
  },
  "language_info": {
   "codemirror_mode": {
    "name": "ipython",
    "version": 3
   },
   "file_extension": ".py",
   "mimetype": "text/x-python",
   "name": "python",
   "nbconvert_exporter": "python",
   "pygments_lexer": "ipython3",
   "version": "3.6.5"
  }
 },
 "nbformat": 4,
 "nbformat_minor": 2
}
